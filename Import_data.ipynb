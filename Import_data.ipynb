{
 "cells": [
  {
   "cell_type": "code",
   "execution_count": 12,
   "metadata": {},
   "outputs": [],
   "source": [
    "import os\n",
    "import pandas as pd\n",
    "import psycopg2"
   ]
  },
  {
   "cell_type": "code",
   "execution_count": 13,
   "metadata": {},
   "outputs": [],
   "source": [
    "# PostgreSQL database connection details\n",
    "db_config = {\n",
    "    'dbname': 'bicourse_db_41',\n",
    "    'user': 'bicourse_user_41',\n",
    "    'password': '860qNdQr83',\n",
    "    'host': 'mtas01.vlba.uni-oldenburg.de',\n",
    "    'port': 5432\n",
    "}"
   ]
  },
  {
   "cell_type": "code",
   "execution_count": null,
   "metadata": {},
   "outputs": [],
   "source": [
    "# Establish database connection\n",
    "try:\n",
    "    conn = psycopg2.connect(**db_config)\n",
    "    cursor = conn.cursor()\n",
    "    print(\"✅ Successfully connected to the database.\")\n",
    "except Exception as e:\n",
    "    print(f\"❌ Database connection error: {e}\")\n",
    "    exit()\n"
   ]
  },
  {
   "cell_type": "code",
   "execution_count": 10,
   "metadata": {},
   "outputs": [],
   "source": [
    "# Folder containing the CSV files\n",
    "data_folder = 'uol-bibliography-data-2008-2017-raw-3'"
   ]
  },
  {
   "cell_type": "code",
   "execution_count": null,
   "metadata": {},
   "outputs": [],
   "source": [
    "# Reeating in whole folder for each CSV file\n",
    "for filename in os.listdir(data_folder):\n",
    "    if filename.endswith('.csv'):\n",
    "        file_path = os.path.join(data_folder, filename)\n",
    "        print(f\"processing: {filename}\")\n",
    "        \n",
    "        # read  CSV files\n",
    "        try:\n",
    "            data = pd.read_csv(file_path)\n",
    "            # Check columns for discrepancies\n",
    "            print(f\"columns of csv file  {filename}: {data.columns}\")\n",
    "        except Exception as e:\n",
    "            print(f\"error {filename}: {e}\")\n",
    "            continue\n",
    "\n",
    "        # Remove extra spaces from column names\n",
    "        data.columns = data.columns.str.strip()\n",
    "\n",
    "        # Convert the 'Meldetag' column to the correct date format (YYYY-MM-DD)\n",
    "        try:\n",
    "            data['Meldetag'] = pd.to_datetime(data['Meldetag'], format='%d.%m.%y').dt.strftime('%Y-%m-%d')\n",
    "        except Exception as e:\n",
    "            print(f\"error in formating file{filename}: {e}\")\n",
    "            continue\n",
    "\n",
    "        #  PostgreSQL database table creation\n",
    "        for _, row in data.iterrows():\n",
    "            try:\n",
    "                cursor.execute(\"\"\"\n",
    "                    INSERT INTO publications (Fach, \"Autor/in\", Titel, Typ, Meldetag, Punktzahl, ZahlOldenburgerAutoren, Jahr)\n",
    "                    VALUES (%s, %s, %s, %s, %s, %s, %s, %s)\n",
    "                \"\"\", (row['Fach'], row['Autor/in'], row['Titel'], row['Typ'], row['Meldetag'], row['Punktzahl'], row['ZahlOldenburgerAutoren'], row['Jahr']))\n",
    "            except Exception as e:\n",
    "                print(f\"error in data importing file: {filename}\")\n",
    "\n",
    "        # save changes\n",
    "        conn.commit()\n",
    "        print(f\" {filename} import.\")\n",
    "\n",
    "#connect to dataset\n",
    "cursor.close()\n",
    "conn.close()\n",
    "print(\" Connected and finished. \")"
   ]
  }
 ],
 "metadata": {
  "kernelspec": {
   "display_name": "bi_env",
   "language": "python",
   "name": "python3"
  },
  "language_info": {
   "codemirror_mode": {
    "name": "ipython",
    "version": 3
   },
   "file_extension": ".py",
   "mimetype": "text/x-python",
   "name": "python",
   "nbconvert_exporter": "python",
   "pygments_lexer": "ipython3",
   "version": "3.9.21"
  }
 },
 "nbformat": 4,
 "nbformat_minor": 2
}
